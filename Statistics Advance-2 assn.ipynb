{
 "cells": [
  {
   "cell_type": "markdown",
   "id": "3a49e807-ea9e-48fc-9549-7f28738d6ce7",
   "metadata": {},
   "source": [
    "## QUESTION 1\n",
    "\n",
    "Probability mass function denotes the probability that a discrete random variable will take on a particular value. Probability density function gives the probability that a continuous random variable will lie between a certain specified interval. It is used for discrete random variables.\n",
    "\n",
    "ex:- 1.TOSSING A COIN (PMF)\n",
    "     2.Yearly modelling of atmospheric NO concentration levels.(PDF)"
   ]
  },
  {
   "cell_type": "markdown",
   "id": "9799cad3-8ff7-4e52-8a95-2e7405c191af",
   "metadata": {},
   "source": [
    "## QUESTION 2\n",
    "\n",
    "Cumlative density function defined as the sum of all the probabilities of already occured event to the next event.\n",
    "the sum of all the events in a CDF is alays equal to 1.\n",
    "the graph gives a s-shape curve to CDF. "
   ]
  },
  {
   "cell_type": "markdown",
   "id": "29096110-e4f4-4055-9fa7-80e81e14a59f",
   "metadata": {},
   "source": [
    "## QUESTION 3\n",
    "\n",
    "All kinds of variables in natural and social sciences are normally or approximately normally distributed. Height, birth weight, reading ability, job satisfaction, or SAT scores are just a few examples of such variables.\n",
    "\n",
    "if mean is increased, the curve tends to right.(right skewed)\n",
    "if variance/standard deviaton  is increased, the wider/stretch ."
   ]
  },
  {
   "cell_type": "markdown",
   "id": "1ab0c7a8-f5fd-423d-9f44-b39fe5c77e29",
   "metadata": {},
   "source": [
    "## QUESTION 4\n",
    "\n",
    "Importance of normal distribution :\n",
    "It is used in almost all fields of statistics. it gives a clear visin of data as it has symmetrical curve.\n",
    "\n",
    "\n",
    "Some real life examples are:-\n",
    "1.shoe size of an adult or a boy.\n",
    "2. birth weight.\n",
    "3. blood pressure.\n",
    "4. height of males"
   ]
  },
  {
   "cell_type": "markdown",
   "id": "dbbf8044-fd2d-4bf6-a73d-d3bd3160e555",
   "metadata": {},
   "source": [
    "## QUESTION 5\n",
    "\n",
    "Benoulli distribution is a type of discrete probability function having parameters p and q .\n",
    "It gives output/probability as binary i.e. (yes/no),(true/false),(0,1)\n",
    "If n=1 binomial distribution tends to bernoulli distribution."
   ]
  },
  {
   "cell_type": "markdown",
   "id": "bcccbc33-9622-4e97-bbb9-aa831a9eb52f",
   "metadata": {},
   "source": [
    "## QUESTION 6\n",
    "\n",
    "given:\n",
    "mu=50\n",
    "sigma=10\n",
    "\n",
    "asking:\n",
    "    p(x>60)\n",
    " we know p(x>60)=1-p(x<60)\n",
    "z=(60-50)/10==1\n",
    "\n",
    "in z table we get the value of +1 as .84134\n",
    "p(x>60)=1-.84134=.15866\n",
    "\n",
    "hence p(x>60)=.15866"
   ]
  },
  {
   "cell_type": "markdown",
   "id": "c05ca21a-8ef9-443a-9464-5a82be92c593",
   "metadata": {},
   "source": [
    "## QUESTION 7\n",
    "\n",
    "Uniform distribution is a probability in which all outcomes have an equal chance of happening. For example, when you flip a coin, there is a 50% chance the flip is heads and a 50% chance it's tails."
   ]
  },
  {
   "cell_type": "markdown",
   "id": "8d79ec2e-8123-4c02-a223-cf7e028223d4",
   "metadata": {},
   "source": [
    "## QUESTION 8\n",
    "\n",
    "A z-score measures exactly how many standard deviations above or below the mean a data point is.\n",
    "Z score is used when the data is normally distribured to make it standard normal variate(mean=0,variance=1)"
   ]
  },
  {
   "cell_type": "markdown",
   "id": "7e62a1b1-ed8d-45fd-94e9-f33acecc6b80",
   "metadata": {},
   "source": [
    "## QUESTION 9\n",
    "\n",
    "Central limit theroem(CLT) states that as the no. of sample size increases the distribution tends to normal distribution .\n",
    "\n",
    "If x~N(mean=mu,variance=sigma**2) then xbar~N(mean=mu,,vaiance=sigma**2/n)\n",
    "\n",
    "\n",
    "The central limit theorem is important in statistics because it allows us to use the Normal distribution to find probabilities involving the sample mean if the sample size is reasonably large (for any population)."
   ]
  },
  {
   "cell_type": "markdown",
   "id": "8fcf07fd-0ad6-48c8-a7b9-5a3058bc086f",
   "metadata": {},
   "source": [
    "## QUESTION 10\n",
    "\n",
    "1. the samples drawn must be at random.\n",
    "\n",
    "2. the samples drawn must be independent to each other.\n",
    "\n",
    "3. the sample drawn by without replacement."
   ]
  },
  {
   "cell_type": "code",
   "execution_count": null,
   "id": "5851c451-0bd6-4484-bfa0-caea306d7e05",
   "metadata": {},
   "outputs": [],
   "source": []
  }
 ],
 "metadata": {
  "kernelspec": {
   "display_name": "Python 3 (ipykernel)",
   "language": "python",
   "name": "python3"
  },
  "language_info": {
   "codemirror_mode": {
    "name": "ipython",
    "version": 3
   },
   "file_extension": ".py",
   "mimetype": "text/x-python",
   "name": "python",
   "nbconvert_exporter": "python",
   "pygments_lexer": "ipython3",
   "version": "3.10.8"
  }
 },
 "nbformat": 4,
 "nbformat_minor": 5
}
